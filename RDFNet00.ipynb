{
 "cells": [
  {
   "cell_type": "code",
   "execution_count": 23,
   "metadata": {
    "collapsed": true
   },
   "outputs": [],
   "source": [
    "# Imports \n",
    "import numpy as np\n",
    "import matplotlib.pyplot as plt\n",
    "import sklearn\n",
    "import sklearn.datasets\n",
    "import sklearn.linear_model\n",
    "from sklearn.datasets import make_classification\n",
    "import math\n",
    "from scipy.special import expit\n",
    "\n",
    "\n",
    "import json\n",
    "import requests\n",
    "\n",
    "\n",
    "import xml.etree.ElementTree as ET\n",
    "\n",
    "\n",
    "%matplotlib inline"
   ]
  },
  {
   "cell_type": "code",
   "execution_count": 24,
   "metadata": {},
   "outputs": [
    {
     "data": {
      "text/plain": [
       "<matplotlib.collections.PathCollection at 0x7fab384c3450>"
      ]
     },
     "execution_count": 24,
     "metadata": {},
     "output_type": "execute_result"
    },
    {
     "data": {
      "image/png": "[encoded data removed]",
      "text/plain": [
       "<matplotlib.figure.Figure at 0x7fab3b00e450>"
      ]
     },
     "metadata": {},
     "output_type": "display_data"
    }
   ],
   "source": [
    "# Start by creating a dataset\n",
    "\n",
    "# This is a randomly generated dataset for demo purposes, \n",
    "# It has two features and 2 classes\n",
    "\n",
    "# m= 100 number of features\n",
    "m = 100\n",
    "\n",
    "X, Y = make_classification(n_features=2, n_redundant=0, n_informative=2,\n",
    "                             n_clusters_per_class=1, n_samples= m)\n",
    "plt.title('Two classes with two features')\n",
    "plt.scatter(X[:, 0], X[:, 1], marker='o', c=Y,\n",
    "            s=25, edgecolor='k')\n",
    "\n"
   ]
  },
  {
   "cell_type": "code",
   "execution_count": 25,
   "metadata": {
    "collapsed": true
   },
   "outputs": [],
   "source": [
    "# Prepare dydra repo for saving model, we will use sparql, change it with your own repo \n",
    "url = \"http://dydra.com/skorkmaz/rdfnet_00/sparql\"\n"
   ]
  },
  {
   "cell_type": "code",
   "execution_count": 26,
   "metadata": {},
   "outputs": [],
   "source": [
    "# As we have two features now we are going to create 1 neuron connected to two inputs, \n",
    "#it is a beginner example so we wont have more layers, it outputs the results\n",
    "n_x = 2\n",
    "\n",
    "# Set activation function\n",
    "activation = \"sigmoid\"\n",
    "\n",
    "# Initialize weights with small values, don't worry about constant 1, second example will explain more\n",
    "W = np.random.randn(1, n_x)  * 0.01\n",
    "# Number of times we propogate back and forth to train our neuron\n",
    "epoch = 10000\n",
    "# Finally, famous parameter alpha , the learning rate, now our neural system is ready\n",
    "learning_rate = 0.001"
   ]
  },
  {
   "cell_type": "code",
   "execution_count": 32,
   "metadata": {},
   "outputs": [
    {
     "name": "stdout",
     "output_type": "stream",
     "text": [
      "<?xml version=\"1.0\" encoding=\"UTF-8\"?>\n",
      "<sparql xmlns=\"http://www.w3.org/2005/sparql-results#\">\n",
      "  <head/>\n",
      "  <boolean>true</boolean>\n",
      "</sparql>\n",
      "\n"
     ]
    }
   ],
   "source": [
    "# OK, now we have our simple neuron, before starting let's save our model\n",
    "# Connect Dydra to create our model\n",
    "# As this example is very small, we will just use two sparql requests to create our model\n",
    "\n",
    "payload = \"query=INSERT DATA\\n{\\n   GRAPH <myrdfnet0> \\n{ <http://example.org/layer0/neuron0> <weight> \"+ str(W[0][0]) + \" . }\\n}\"\n",
    "payload2 = \"query=INSERT DATA\\n{\\n   GRAPH <myrdfnet0> \\n{ <http://example.org/layer0/neuron0> <weight> \"+ str(W[0][1]) + \" . }\\n}\"\n",
    "\n",
    "headers = {\n",
    "    'content-type': \"application/x-www-form-urlencoded\",\n",
    "    'cache-control': \"no-cache\"\n",
    "    }\n",
    "\n",
    "response = requests.request(\"POST\", url, data=payload, headers=headers)\n",
    "response = requests.request(\"POST\", url, data=payload2, headers=headers)\n",
    "\n",
    "print(response.text)"
   ]
  },
  {
   "cell_type": "code",
   "execution_count": 28,
   "metadata": {},
   "outputs": [
    {
     "name": "stdout",
     "output_type": "stream",
     "text": [
      "0.691130666662\n",
      "0.691186608867\n",
      "0.691242507659\n",
      "0.691298366327\n",
      "0.69135418815\n",
      "0.691409976398\n",
      "0.691465734334\n",
      "0.691521465213\n",
      "0.691577172285\n",
      "0.691632858793\n",
      "0.691688527976\n",
      "0.69174418307\n",
      "0.691799827305\n",
      "0.69185546391\n",
      "0.691911096114\n",
      "0.691966727142\n",
      "0.69202236022\n",
      "0.692077998575\n",
      "0.692133645435\n",
      "0.692189304029\n",
      "0.692244977589\n",
      "0.692300669352\n",
      "0.692356382557\n",
      "0.692412120451\n",
      "0.692467886282\n",
      "0.692523683309\n",
      "0.692579514797\n",
      "0.692635384018\n",
      "0.692691294253\n",
      "0.692747248793\n",
      "0.69280325094\n",
      "0.692859304006\n",
      "0.692915411315\n",
      "0.692971576205\n",
      "0.693027802027\n",
      "0.693084092144\n",
      "0.693140449939\n",
      "0.693196878806\n",
      "0.693253382158\n",
      "0.693309963427\n",
      "0.693366626061\n",
      "0.693423373529\n",
      "0.69348020932\n",
      "0.693537136943\n",
      "0.69359415993\n",
      "0.693651281837\n",
      "0.693708506242\n",
      "0.693765836747\n",
      "0.693823276983\n",
      "0.693880830605\n",
      "0.693938501296\n",
      "0.693996292768\n",
      "0.694054208763\n",
      "0.694112253053\n",
      "0.694170429441\n",
      "0.694228741764\n",
      "0.694287193893\n",
      "0.694345789731\n",
      "0.69440453322\n",
      "0.694463428339\n",
      "0.694522479102\n",
      "0.694581689566\n",
      "0.694641063827\n",
      "0.694700606021\n",
      "0.694760320331\n",
      "0.69482021098\n",
      "0.694880282239\n",
      "0.694940538426\n",
      "0.695000983905\n",
      "0.695061623091\n",
      "0.695122460451\n",
      "0.695183500501\n",
      "0.695244747813\n",
      "0.695306207014\n",
      "0.695367882788\n",
      "0.695429779876\n",
      "0.69549190308\n",
      "0.695554257263\n",
      "0.69561684735\n",
      "0.695679678334\n",
      "0.695742755271\n",
      "0.695806083287\n",
      "0.695869667578\n",
      "0.695933513411\n",
      "0.695997626129\n",
      "0.696062011147\n",
      "0.696126673963\n",
      "0.69619162015\n",
      "0.696256855365\n",
      "0.696322385351\n",
      "0.696388215933\n",
      "0.696454353029\n",
      "0.696520802645\n",
      "0.69658757088\n",
      "0.696654663932\n",
      "0.696722088093\n",
      "0.696789849759\n",
      "0.696857955429\n",
      "0.696926411707\n",
      "0.696995225306\n"
     ]
    }
   ],
   "source": [
    "# If you want go and check values of our initial model in Dydra repository of yours\n",
    "for i in range(0, epoch):\n",
    "    # Forward pass \n",
    "    A = np.dot(W , X.T)\n",
    "    Z = expit(A)\n",
    "    # Compute cost of the error, using cross entropy\n",
    "    logprobs = Y * np.log(Z)  + (1.0 - Y) * np.log(1.0 - Z)\n",
    "    cost = - (1.0 / m) *  np.sum(logprobs) \n",
    "    # makes sure cost is the dimension we expect. \n",
    "    cost = np.squeeze(cost)     \n",
    "    if i % 100 == 0:\n",
    "        print cost                               \n",
    "    \n",
    "    # Back propagation \n",
    "    # Gradient of the classification\n",
    "    dZ= A - Y\n",
    "        # Derivative of the weights \n",
    "    dW = (1.0 / m) * np.dot(dZ,A.T)\n",
    "    # Update parameters through learning \n",
    "    W = W - learning_rate * dW\n"
   ]
  },
  {
   "cell_type": "code",
   "execution_count": 34,
   "metadata": {},
   "outputs": [
    {
     "name": "stdout",
     "output_type": "stream",
     "text": [
      "<?xml version=\"1.0\" encoding=\"UTF-8\"?>\n",
      "<sparql xmlns=\"http://www.w3.org/2005/sparql-results#\">\n",
      "  <head/>\n",
      "  <boolean>true</boolean>\n",
      "</sparql>\n",
      "\n"
     ]
    }
   ],
   "source": [
    "# Save Dydra our model, sparql update= delete and insert\n",
    "\n",
    "payload = \"query=CLEAR GRAPH  <myrdfnet0>\"\n",
    "response = requests.request(\"POST\", url, data=payload, headers=headers)\n",
    "\n",
    "\n",
    "\n",
    "payload = \"query=INSERT DATA\\n{\\n   GRAPH <myrdfnet0> \\n{ <http://example.org/layer0/neuron0> <weight> \"+ str(W[0][0]) + \" . }\\n}\"\n",
    "payload2 = \"query=INSERT DATA\\n{\\n   GRAPH <myrdfnet0> \\n{ <http://example.org/layer0/neuron0> <weight> \"+ str(W[0][1]) + \" . }\\n}\"\n",
    "\n",
    "headers = {\n",
    "    'content-type': \"application/x-www-form-urlencoded\",\n",
    "    'cache-control': \"no-cache\"\n",
    "    }\n",
    "\n",
    "response = requests.request(\"POST\", url, data=payload, headers=headers)\n",
    "response = requests.request(\"POST\", url, data=payload2, headers=headers)\n",
    "\n",
    "print(response.text)"
   ]
  },
  {
   "cell_type": "code",
   "execution_count": 35,
   "metadata": {},
   "outputs": [
    {
     "name": "stdout",
     "output_type": "stream",
     "text": [
      "<?xml version=\"1.0\" encoding=\"UTF-8\"?>\n",
      "<sparql xmlns=\"http://www.w3.org/2005/sparql-results#\">\n",
      "  <head>\n",
      "    <variable name=\"g\"/>\n",
      "    <variable name=\"o\"/>\n",
      "    <variable name=\"p\"/>\n",
      "    <variable name=\"s\"/>\n",
      "  </head>\n",
      "  <results>\n",
      "    <result>\n",
      "      <binding name=\"g\">\n",
      "        <uri>myrdfnet0</uri>\n",
      "      </binding>\n",
      "      <binding name=\"o\">\n",
      "        <literal datatype=\"http://www.w3.org/2001/XMLSchema#decimal\">-0.005596807</literal>\n",
      "      </binding>\n",
      "      <binding name=\"p\">\n",
      "        <uri>weight</uri>\n",
      "      </binding>\n",
      "      <binding name=\"s\">\n",
      "        <uri>http://example.org/layer0/neuron0</uri>\n",
      "      </binding>\n",
      "    </result>\n",
      "    <result>\n",
      "      <binding name=\"g\">\n",
      "        <uri>myrdfnet0</uri>\n",
      "      </binding>\n",
      "      <binding name=\"o\">\n",
      "        <literal datatype=\"http://www.w3.org/2001/XMLSchema#decimal\">-0.007877712</literal>\n",
      "      </binding>\n",
      "      <binding name=\"p\">\n",
      "        <uri>weight</uri>\n",
      "      </binding>\n",
      "      <binding name=\"s\">\n",
      "        <uri>http://example.org/layer0/neuron0</uri>\n",
      "      </binding>\n",
      "    </result>\n",
      "  </results>\n",
      "</sparql>\n",
      "\n"
     ]
    }
   ],
   "source": [
    "# Load our model back from Dydra to see the details\n",
    "payload = \"query=select * where { { graph ?g {?s ?p ?o} } union {?s ?p ?o} } limit 10\"\n",
    "response = requests.request(\"POST\", url, data=payload, headers=headers)\n",
    "\n",
    "print(response.text)"
   ]
  },
  {
   "cell_type": "code",
   "execution_count": null,
   "metadata": {
    "collapsed": true
   },
   "outputs": [],
   "source": []
  }
 ],
 "metadata": {
  "kernelspec": {
   "display_name": "Python 2",
   "language": "python",
   "name": "python2"
  },
  "language_info": {
   "codemirror_mode": {
    "name": "ipython",
    "version": 2
   },
   "file_extension": ".py",
   "mimetype": "text/x-python",
   "name": "python",
   "nbconvert_exporter": "python",
   "pygments_lexer": "ipython2",
   "version": "2.7.13"
  }
 },
 "nbformat": 4,
 "nbformat_minor": 2
}
